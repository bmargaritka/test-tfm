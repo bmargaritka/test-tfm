{
 "cells": [
  {
   "cell_type": "markdown",
   "id": "02570518",
   "metadata": {},
   "source": [
    "# Тестовое задание на позицию Junior Analyst в Topface Media\n",
    "Автор решения: Баранова Маргарита Алексеевна"
   ]
  },
  {
   "cell_type": "markdown",
   "id": "e7a68098",
   "metadata": {
    "toc": true
   },
   "source": [
    "<h1>Содержание<span class=\"tocSkip\"></span></h1>\n",
    "<div class=\"toc\"><ul class=\"toc-item\"><li><span><a href=\"#Вопросы\" data-toc-modified-id=\"Вопросы-1\"><span class=\"toc-item-num\">1&nbsp;&nbsp;</span>Вопросы</a></span></li><li><span><a href=\"#Задачи-на-логику\" data-toc-modified-id=\"Задачи-на-логику-2\"><span class=\"toc-item-num\">2&nbsp;&nbsp;</span>Задачи на логику</a></span></li><li><span><a href=\"#Техническое-задание\" data-toc-modified-id=\"Техническое-задание-3\"><span class=\"toc-item-num\">3&nbsp;&nbsp;</span>Техническое задание</a></span><ul class=\"toc-item\"><li><span><a href=\"#Предобработка-данных\" data-toc-modified-id=\"Предобработка-данных-3.1\"><span class=\"toc-item-num\">3.1&nbsp;&nbsp;</span>Предобработка данных</a></span></li><li><span><a href=\"#Ответы-на-вопросы\" data-toc-modified-id=\"Ответы-на-вопросы-3.2\"><span class=\"toc-item-num\">3.2&nbsp;&nbsp;</span>Ответы на вопросы</a></span><ul class=\"toc-item\"><li><span><a href=\"#Общая-выручка-за-июль-2021\" data-toc-modified-id=\"Общая-выручка-за-июль-2021-3.2.1\"><span class=\"toc-item-num\">3.2.1&nbsp;&nbsp;</span>Общая выручка за июль 2021</a></span></li><li><span><a href=\"#Динамика-выручки\" data-toc-modified-id=\"Динамика-выручки-3.2.2\"><span class=\"toc-item-num\">3.2.2&nbsp;&nbsp;</span>Динамика выручки</a></span></li><li><span><a href=\"#Топ-менеджеров\" data-toc-modified-id=\"Топ-менеджеров-3.2.3\"><span class=\"toc-item-num\">3.2.3&nbsp;&nbsp;</span>Топ менеджеров</a></span></li><li><span><a href=\"#Сделки-в-октябре\" data-toc-modified-id=\"Сделки-в-октябре-3.2.4\"><span class=\"toc-item-num\">3.2.4&nbsp;&nbsp;</span>Сделки в октябре</a></span></li><li><span><a href=\"#Количество-оригиналов\" data-toc-modified-id=\"Количество-оригиналов-3.2.5\"><span class=\"toc-item-num\">3.2.5&nbsp;&nbsp;</span>Количество оригиналов</a></span></li></ul></li><li><span><a href=\"#Задание\" data-toc-modified-id=\"Задание-3.3\"><span class=\"toc-item-num\">3.3&nbsp;&nbsp;</span>Задание</a></span><ul class=\"toc-item\"><li><span><a href=\"#Решение\" data-toc-modified-id=\"Решение-3.3.1\"><span class=\"toc-item-num\">3.3.1&nbsp;&nbsp;</span>Решение</a></span></li><li><span><a href=\"#Ответ\" data-toc-modified-id=\"Ответ-3.3.2\"><span class=\"toc-item-num\">3.3.2&nbsp;&nbsp;</span>Ответ</a></span></li></ul></li></ul></li></ul></div>"
   ]
  },
  {
   "cell_type": "markdown",
   "id": "e805cfd7",
   "metadata": {},
   "source": [
    "## Вопросы\n",
    "1. Как хорошо Вы владеете Python? Оцените свой уровень по шкале от 0 до 10, где 0 - совсем не знаю, 10 - владею в совершенстве. \n",
    "**Ответ: 6**\n",
    "\n",
    "2.  Насколько хорошо Вы знаете продукт Microsoft Excel? Оцените свой уровень по шкале от 0 до 10, где 0 - совсем не знаю, 10 - владею в совершенстве. \n",
    "**Ответ: 4**"
   ]
  },
  {
   "cell_type": "markdown",
   "id": "c4aa659c",
   "metadata": {},
   "source": [
    "## Задачи на логику\n",
    "\n",
    "1. Рекламная кампания стартовала вчера с дневным бюджетом 40\\\\$. Половина бюджета была израсходована к полудню, а 80\\% оставшегося бюджета было потрачено между полуднем и временем закрытия. Сколько долларов не было потрачено?\n",
    "\n",
    "*Решение* : 40 : 2 = 20 долларов осталось на кампанию после полудня. Пострачено 80\\%, значит останется 20\\% от 20: 0.2 = 4\\\\$\n",
    "\n",
    "**Ответ: 4 \\\\$**"
   ]
  },
  {
   "cell_type": "markdown",
   "id": "b5a6a973",
   "metadata": {},
   "source": [
    "2. 5 идентичных рекламных кампаний работали 24 дня по 6 часов в день, потрачено было 120 долларов. Сколько дней они работали бы на 216 долларов, если бы 9 одинаковых кампаний работали бы по 8 часов в день?\n",
    "\n",
    "*Решение*: Пусть х - искомое количество дней. Тогда стоимость одного часа рекламной кампании будет равна: $$\\frac{120}{5\\cdot24\\cdot6}=\\frac{216}{9\\cdot x\\cdot8}$$"
   ]
  },
  {
   "cell_type": "code",
   "execution_count": 1,
   "id": "f56f9df8",
   "metadata": {},
   "outputs": [
    {
     "data": {
      "text/plain": [
       "18.0"
      ]
     },
     "execution_count": 1,
     "metadata": {},
     "output_type": "execute_result"
    }
   ],
   "source": [
    "216*5*24*6 / (120*9*8)"
   ]
  },
  {
   "cell_type": "markdown",
   "id": "61d9f6f3",
   "metadata": {},
   "source": [
    "**Ответ: 18 дней**"
   ]
  },
  {
   "cell_type": "markdown",
   "id": "874536b5",
   "metadata": {},
   "source": [
    "3. Дизайнеры создали 200 рекламных баннеров для двух рекламных кампаний. 80 из них не использовались ни в кампании №1, ни в кампании №2, 60 использовались только в кампании №1. И для каждого рекламного баннера, который использовался в обеих кампаниях, приходится 3 баннера, которые использовались только в кампании №2. Сколько баннеров было использовано в обеих рекламных кампаниях?\n",
    "\n",
    "*Решение*: Пусть x - количество баннеров, использованных в обеих рекламных кампаниях. Тогда общее количество баннеров равно 80 + 60 + x + 3х = 200, 4х = 60, х = 15.\n",
    "\n",
    "**Ответ: 15 баннеров**"
   ]
  },
  {
   "cell_type": "markdown",
   "id": "6542abec",
   "metadata": {},
   "source": [
    "4. Энн использует Instagram, но не Facebook, а Джон использует Youtube и Facebook. Кейт использует Youtube, но не Instagram, а Том использует Facebook, но не Youtube. Если каждый человек использует две из трех социальных сетей, у кого предпочтения совпадают?\n",
    "\n",
    "*Решение*:\n",
    "\n",
    "| Социальная сеть | Энн | Джон | Кейт | Том |\n",
    "| :- | :-: | :-: | :-: | :-: |\n",
    "| Instagram | + | - | - | + |\n",
    "| Facebook | - | + | + | + |\n",
    "| YouTube | + | + | + | - |\n",
    "\n",
    "**Ответ: Джон и Кейт**"
   ]
  },
  {
   "cell_type": "markdown",
   "id": "eb8067ce",
   "metadata": {},
   "source": [
    "5.  Средний итоговый балл стажера по 4 модулям составляет 78 баллов. Сколько баллов должен получить стажер за 5-й модуль, чтобы средний балл по всему заданию составил 80? \n",
    "\n",
    "*Решение*: Сумма баллов за 4 модуля равна 78 \\* 4 = 312. Пусть х - количество баллов за 5 модуль. Значит средний балл за 5 модулей равен: \n",
    "$$\\frac{312 + х}{5}=80$$\n",
    "Значит х = 80 \\* 5 - 312 = 88.\n",
    "\n",
    "**Ответ: 88 баллов**"
   ]
  },
  {
   "cell_type": "markdown",
   "id": "cba8b0ea",
   "metadata": {},
   "source": [
    "6.  Заказанные в приложении товары доставляются на автомобиле. Автомобиль проезжает 260 км со средней скоростью 80 км / ч. На обратном пути машина движется со средней скоростью 100 км / ч. Насколько быстрее был обратный путь? Ответ указать в минутах.\n",
    "*Решение*: До получателя автомобиль едет 260 / 80 = 3,25 часов. Обратно - 260 / 100 = 2,6 часов. Значит обратно он вернулся быстрее на 3,25 - 2,6 = 0,65 часов, или на 0,65 * 60 = 39 минут.\n",
    "\n",
    "**Ответ: 39 минут**"
   ]
  },
  {
   "cell_type": "markdown",
   "id": "e6307236",
   "metadata": {},
   "source": [
    "## Техническое задание \n",
    "Описание таблицы:\n",
    "* client_id - ID клиента;\n",
    "* sum – сумма денежных средств;\n",
    "* status – статус оплаты;\n",
    "* sale – менеджер, заключивший сделку;\n",
    "* new/current – статус сделки;\n",
    "* document – наличие оригинала подписанного договора с клиентом;\n",
    "* receiving_date – дата получения оригинала договора."
   ]
  },
  {
   "cell_type": "code",
   "execution_count": 2,
   "id": "a7d53622",
   "metadata": {},
   "outputs": [],
   "source": [
    "# импорт необходимых библиотек\n",
    "import pandas as pd\n",
    "import matplotlib.pyplot as plt\n",
    "import warnings \n",
    "warnings.simplefilter(\"ignore\")"
   ]
  },
  {
   "cell_type": "code",
   "execution_count": 3,
   "id": "3880d8df",
   "metadata": {},
   "outputs": [
    {
     "data": {
      "text/html": [
       "<div>\n",
       "<style scoped>\n",
       "    .dataframe tbody tr th:only-of-type {\n",
       "        vertical-align: middle;\n",
       "    }\n",
       "\n",
       "    .dataframe tbody tr th {\n",
       "        vertical-align: top;\n",
       "    }\n",
       "\n",
       "    .dataframe thead th {\n",
       "        text-align: right;\n",
       "    }\n",
       "</style>\n",
       "<table border=\"1\" class=\"dataframe\">\n",
       "  <thead>\n",
       "    <tr style=\"text-align: right;\">\n",
       "      <th></th>\n",
       "      <th>client_id</th>\n",
       "      <th>sum</th>\n",
       "      <th>status</th>\n",
       "      <th>sale</th>\n",
       "      <th>new/current</th>\n",
       "      <th>Unnamed: 5</th>\n",
       "      <th>document</th>\n",
       "      <th>receiving_date</th>\n",
       "    </tr>\n",
       "  </thead>\n",
       "  <tbody>\n",
       "    <tr>\n",
       "      <th>0</th>\n",
       "      <td>NaN</td>\n",
       "      <td>NaN</td>\n",
       "      <td>Май 2021</td>\n",
       "      <td>NaN</td>\n",
       "      <td>NaN</td>\n",
       "      <td>NaN</td>\n",
       "      <td>NaN</td>\n",
       "      <td>NaN</td>\n",
       "    </tr>\n",
       "    <tr>\n",
       "      <th>1</th>\n",
       "      <td>6.0</td>\n",
       "      <td>11693.7</td>\n",
       "      <td>ВНУТРЕННИЙ</td>\n",
       "      <td>-</td>\n",
       "      <td>-</td>\n",
       "      <td>NaN</td>\n",
       "      <td>-</td>\n",
       "      <td>-</td>\n",
       "    </tr>\n",
       "    <tr>\n",
       "      <th>2</th>\n",
       "      <td>14.0</td>\n",
       "      <td>5452.7</td>\n",
       "      <td>ОПЛАЧЕНО</td>\n",
       "      <td>Петрова</td>\n",
       "      <td>новая</td>\n",
       "      <td>NaN</td>\n",
       "      <td>оригинал</td>\n",
       "      <td>2021-07-26 00:00:00</td>\n",
       "    </tr>\n",
       "    <tr>\n",
       "      <th>3</th>\n",
       "      <td>15.0</td>\n",
       "      <td>13991.7</td>\n",
       "      <td>ОПЛАЧЕНО</td>\n",
       "      <td>Иванов</td>\n",
       "      <td>текущая</td>\n",
       "      <td>NaN</td>\n",
       "      <td>оригинал</td>\n",
       "      <td>2021-06-08 00:00:00</td>\n",
       "    </tr>\n",
       "    <tr>\n",
       "      <th>4</th>\n",
       "      <td>16.0</td>\n",
       "      <td>719.7</td>\n",
       "      <td>ОПЛАЧЕНО</td>\n",
       "      <td>Иванов</td>\n",
       "      <td>текущая</td>\n",
       "      <td>NaN</td>\n",
       "      <td>оригинал</td>\n",
       "      <td>2021-06-08 00:00:00</td>\n",
       "    </tr>\n",
       "  </tbody>\n",
       "</table>\n",
       "</div>"
      ],
      "text/plain": [
       "   client_id      sum      status     sale new/current  Unnamed: 5  document  \\\n",
       "0        NaN      NaN    Май 2021      NaN         NaN         NaN       NaN   \n",
       "1        6.0  11693.7  ВНУТРЕННИЙ        -           -         NaN         -   \n",
       "2       14.0   5452.7    ОПЛАЧЕНО  Петрова       новая         NaN  оригинал   \n",
       "3       15.0  13991.7    ОПЛАЧЕНО   Иванов     текущая         NaN  оригинал   \n",
       "4       16.0    719.7    ОПЛАЧЕНО   Иванов     текущая         NaN  оригинал   \n",
       "\n",
       "        receiving_date  \n",
       "0                  NaN  \n",
       "1                    -  \n",
       "2  2021-07-26 00:00:00  \n",
       "3  2021-06-08 00:00:00  \n",
       "4  2021-06-08 00:00:00  "
      ]
     },
     "execution_count": 3,
     "metadata": {},
     "output_type": "execute_result"
    }
   ],
   "source": [
    "# открытие файла\n",
    "data = pd.ExcelFile('data.xlsx').parse()\n",
    "data.head()"
   ]
  },
  {
   "cell_type": "code",
   "execution_count": 4,
   "id": "7a8934ee",
   "metadata": {},
   "outputs": [
    {
     "name": "stdout",
     "output_type": "stream",
     "text": [
      "<class 'pandas.core.frame.DataFrame'>\n",
      "RangeIndex: 730 entries, 0 to 729\n",
      "Data columns (total 8 columns):\n",
      " #   Column          Non-Null Count  Dtype  \n",
      "---  ------          --------------  -----  \n",
      " 0   client_id       724 non-null    float64\n",
      " 1   sum             724 non-null    float64\n",
      " 2   status          730 non-null    object \n",
      " 3   sale            724 non-null    object \n",
      " 4   new/current     724 non-null    object \n",
      " 5   Unnamed: 5      0 non-null      float64\n",
      " 6   document        709 non-null    object \n",
      " 7   receiving_date  607 non-null    object \n",
      "dtypes: float64(3), object(5)\n",
      "memory usage: 45.8+ KB\n"
     ]
    }
   ],
   "source": [
    "# основная информация о таблице\n",
    "data.info()"
   ]
  },
  {
   "cell_type": "markdown",
   "id": "05ed6390",
   "metadata": {},
   "source": [
    "### Предобработка данных"
   ]
  },
  {
   "cell_type": "markdown",
   "id": "4d5641a1",
   "metadata": {},
   "source": [
    "В стоблце status помимо статуса оплаты есть строки-заголовки, определяющие месяц перевода. Для удобства определим для каждой строки месяц и год оформления. Так будет удобнее делать срезы.\n",
    "\n",
    "Для начала определим, какой статус может быть."
   ]
  },
  {
   "cell_type": "code",
   "execution_count": 5,
   "id": "b04adcb8",
   "metadata": {},
   "outputs": [
    {
     "data": {
      "text/plain": [
       "array(['Май 2021', 'ВНУТРЕННИЙ', 'ОПЛАЧЕНО', 'ПРОСРОЧЕНО', 'Июнь 2021',\n",
       "       'Июль 2021', 'Август 2021', 'В РАБОТЕ', 'Сентябрь 2021',\n",
       "       'Октябрь 2021', 'НА ПОДПИСАНИИ'], dtype=object)"
      ]
     },
     "execution_count": 5,
     "metadata": {},
     "output_type": "execute_result"
    }
   ],
   "source": [
    "# уникальные значения столбца status\n",
    "data['status'].unique()"
   ]
  },
  {
   "cell_type": "code",
   "execution_count": 6,
   "id": "3ac9d6b9",
   "metadata": {},
   "outputs": [],
   "source": [
    "# список возможных статусов\n",
    "status = ['ВНУТРЕННИЙ', 'ОПЛАЧЕНО', 'ПРОСРОЧЕНО', 'В РАБОТЕ', 'НА ПОДПИСАНИИ']"
   ]
  },
  {
   "cell_type": "markdown",
   "id": "abf60357",
   "metadata": {},
   "source": [
    "В таблице есть пустой столбец, используем его для обозначения месяца. "
   ]
  },
  {
   "cell_type": "code",
   "execution_count": 7,
   "id": "927a37d3",
   "metadata": {},
   "outputs": [],
   "source": [
    "# переименования столбца\n",
    "data = data.rename(columns={'Unnamed: 5': 'month'})"
   ]
  },
  {
   "cell_type": "code",
   "execution_count": 8,
   "id": "ba5d1f22",
   "metadata": {},
   "outputs": [
    {
     "data": {
      "text/html": [
       "<div>\n",
       "<style scoped>\n",
       "    .dataframe tbody tr th:only-of-type {\n",
       "        vertical-align: middle;\n",
       "    }\n",
       "\n",
       "    .dataframe tbody tr th {\n",
       "        vertical-align: top;\n",
       "    }\n",
       "\n",
       "    .dataframe thead th {\n",
       "        text-align: right;\n",
       "    }\n",
       "</style>\n",
       "<table border=\"1\" class=\"dataframe\">\n",
       "  <thead>\n",
       "    <tr style=\"text-align: right;\">\n",
       "      <th></th>\n",
       "      <th>index</th>\n",
       "      <th>status</th>\n",
       "    </tr>\n",
       "  </thead>\n",
       "  <tbody>\n",
       "    <tr>\n",
       "      <th>0</th>\n",
       "      <td>0</td>\n",
       "      <td>Май 2021</td>\n",
       "    </tr>\n",
       "    <tr>\n",
       "      <th>1</th>\n",
       "      <td>129</td>\n",
       "      <td>Июнь 2021</td>\n",
       "    </tr>\n",
       "    <tr>\n",
       "      <th>2</th>\n",
       "      <td>258</td>\n",
       "      <td>Июль 2021</td>\n",
       "    </tr>\n",
       "    <tr>\n",
       "      <th>3</th>\n",
       "      <td>369</td>\n",
       "      <td>Август 2021</td>\n",
       "    </tr>\n",
       "    <tr>\n",
       "      <th>4</th>\n",
       "      <td>484</td>\n",
       "      <td>Сентябрь 2021</td>\n",
       "    </tr>\n",
       "    <tr>\n",
       "      <th>5</th>\n",
       "      <td>594</td>\n",
       "      <td>Октябрь 2021</td>\n",
       "    </tr>\n",
       "  </tbody>\n",
       "</table>\n",
       "</div>"
      ],
      "text/plain": [
       "   index         status\n",
       "0      0       Май 2021\n",
       "1    129      Июнь 2021\n",
       "2    258      Июль 2021\n",
       "3    369    Август 2021\n",
       "4    484  Сентябрь 2021\n",
       "5    594   Октябрь 2021"
      ]
     },
     "execution_count": 8,
     "metadata": {},
     "output_type": "execute_result"
    }
   ],
   "source": [
    "# определение индексов строк-заголовков\n",
    "indexes = data.query('status not in @status').reset_index()[['index', 'status']]\n",
    "indexes"
   ]
  },
  {
   "cell_type": "code",
   "execution_count": 9,
   "id": "2499d27a",
   "metadata": {},
   "outputs": [],
   "source": [
    "# заполнение столбца month \"от индекса до инфекса\"\n",
    "for i in range(len(indexes) - 1):\n",
    "    data.loc[indexes.loc[i, 'index']:indexes.loc[i + 1,'index'],'month'] = indexes.loc[i,'status']\n",
    "    \n",
    "data.loc[indexes.loc[len(indexes) - 1, 'index']:, 'month'] = indexes.loc[len(indexes) - 1, 'status']"
   ]
  },
  {
   "cell_type": "code",
   "execution_count": 10,
   "id": "30d3e4f1",
   "metadata": {},
   "outputs": [
    {
     "data": {
      "text/html": [
       "<div>\n",
       "<style scoped>\n",
       "    .dataframe tbody tr th:only-of-type {\n",
       "        vertical-align: middle;\n",
       "    }\n",
       "\n",
       "    .dataframe tbody tr th {\n",
       "        vertical-align: top;\n",
       "    }\n",
       "\n",
       "    .dataframe thead th {\n",
       "        text-align: right;\n",
       "    }\n",
       "</style>\n",
       "<table border=\"1\" class=\"dataframe\">\n",
       "  <thead>\n",
       "    <tr style=\"text-align: right;\">\n",
       "      <th></th>\n",
       "      <th>client_id</th>\n",
       "      <th>sum</th>\n",
       "      <th>status</th>\n",
       "      <th>sale</th>\n",
       "      <th>new/current</th>\n",
       "      <th>month</th>\n",
       "      <th>document</th>\n",
       "      <th>receiving_date</th>\n",
       "    </tr>\n",
       "  </thead>\n",
       "  <tbody>\n",
       "    <tr>\n",
       "      <th>1</th>\n",
       "      <td>6.0</td>\n",
       "      <td>11693.7</td>\n",
       "      <td>ВНУТРЕННИЙ</td>\n",
       "      <td>-</td>\n",
       "      <td>-</td>\n",
       "      <td>Май 2021</td>\n",
       "      <td>-</td>\n",
       "      <td>-</td>\n",
       "    </tr>\n",
       "    <tr>\n",
       "      <th>2</th>\n",
       "      <td>14.0</td>\n",
       "      <td>5452.7</td>\n",
       "      <td>ОПЛАЧЕНО</td>\n",
       "      <td>Петрова</td>\n",
       "      <td>новая</td>\n",
       "      <td>Май 2021</td>\n",
       "      <td>оригинал</td>\n",
       "      <td>2021-07-26 00:00:00</td>\n",
       "    </tr>\n",
       "    <tr>\n",
       "      <th>3</th>\n",
       "      <td>15.0</td>\n",
       "      <td>13991.7</td>\n",
       "      <td>ОПЛАЧЕНО</td>\n",
       "      <td>Иванов</td>\n",
       "      <td>текущая</td>\n",
       "      <td>Май 2021</td>\n",
       "      <td>оригинал</td>\n",
       "      <td>2021-06-08 00:00:00</td>\n",
       "    </tr>\n",
       "    <tr>\n",
       "      <th>4</th>\n",
       "      <td>16.0</td>\n",
       "      <td>719.7</td>\n",
       "      <td>ОПЛАЧЕНО</td>\n",
       "      <td>Иванов</td>\n",
       "      <td>текущая</td>\n",
       "      <td>Май 2021</td>\n",
       "      <td>оригинал</td>\n",
       "      <td>2021-06-08 00:00:00</td>\n",
       "    </tr>\n",
       "    <tr>\n",
       "      <th>5</th>\n",
       "      <td>18.0</td>\n",
       "      <td>4253.7</td>\n",
       "      <td>ОПЛАЧЕНО</td>\n",
       "      <td>Иванов</td>\n",
       "      <td>текущая</td>\n",
       "      <td>Май 2021</td>\n",
       "      <td>оригинал</td>\n",
       "      <td>2021-07-07 00:00:00</td>\n",
       "    </tr>\n",
       "  </tbody>\n",
       "</table>\n",
       "</div>"
      ],
      "text/plain": [
       "   client_id      sum      status     sale new/current     month  document  \\\n",
       "1        6.0  11693.7  ВНУТРЕННИЙ        -           -  Май 2021         -   \n",
       "2       14.0   5452.7    ОПЛАЧЕНО  Петрова       новая  Май 2021  оригинал   \n",
       "3       15.0  13991.7    ОПЛАЧЕНО   Иванов     текущая  Май 2021  оригинал   \n",
       "4       16.0    719.7    ОПЛАЧЕНО   Иванов     текущая  Май 2021  оригинал   \n",
       "5       18.0   4253.7    ОПЛАЧЕНО   Иванов     текущая  Май 2021  оригинал   \n",
       "\n",
       "        receiving_date  \n",
       "1                    -  \n",
       "2  2021-07-26 00:00:00  \n",
       "3  2021-06-08 00:00:00  \n",
       "4  2021-06-08 00:00:00  \n",
       "5  2021-07-07 00:00:00  "
      ]
     },
     "execution_count": 10,
     "metadata": {},
     "output_type": "execute_result"
    }
   ],
   "source": [
    "# исключение строк-заголовков\n",
    "data = data.dropna(subset=['client_id'])\n",
    "data.head()"
   ]
  },
  {
   "cell_type": "code",
   "execution_count": 11,
   "id": "fc680352",
   "metadata": {},
   "outputs": [],
   "source": [
    "# корректировка типов данных\n",
    "data['receiving_date'] = pd.to_datetime(data['receiving_date'], \n",
    "                                        format='%Y-%m-%d %H:%M:%S', \n",
    "                                        errors='coerce')"
   ]
  },
  {
   "cell_type": "code",
   "execution_count": 12,
   "id": "12d4ffce",
   "metadata": {},
   "outputs": [],
   "source": [
    "# преобразование типа данных\n",
    "data = data.astype({'client_id': int})"
   ]
  },
  {
   "cell_type": "code",
   "execution_count": 13,
   "id": "24ee506f",
   "metadata": {},
   "outputs": [
    {
     "data": {
      "text/plain": [
       "14"
      ]
     },
     "execution_count": 13,
     "metadata": {},
     "output_type": "execute_result"
    }
   ],
   "source": [
    "#сумма строк-дубликатов\n",
    "data.duplicated().sum()"
   ]
  },
  {
   "cell_type": "code",
   "execution_count": 14,
   "id": "1fd09622",
   "metadata": {},
   "outputs": [],
   "source": [
    "# удаление дубликатов\n",
    "data = data.drop_duplicates().reset_index(drop=True)"
   ]
  },
  {
   "cell_type": "markdown",
   "id": "6e333c2d",
   "metadata": {},
   "source": [
    "После изменения типов данных, удаления строк-дубликатов и определения месяца заказов таблица выглядит так:"
   ]
  },
  {
   "cell_type": "code",
   "execution_count": 15,
   "id": "a6cb1897",
   "metadata": {},
   "outputs": [
    {
     "data": {
      "text/html": [
       "<div>\n",
       "<style scoped>\n",
       "    .dataframe tbody tr th:only-of-type {\n",
       "        vertical-align: middle;\n",
       "    }\n",
       "\n",
       "    .dataframe tbody tr th {\n",
       "        vertical-align: top;\n",
       "    }\n",
       "\n",
       "    .dataframe thead th {\n",
       "        text-align: right;\n",
       "    }\n",
       "</style>\n",
       "<table border=\"1\" class=\"dataframe\">\n",
       "  <thead>\n",
       "    <tr style=\"text-align: right;\">\n",
       "      <th></th>\n",
       "      <th>client_id</th>\n",
       "      <th>sum</th>\n",
       "      <th>status</th>\n",
       "      <th>sale</th>\n",
       "      <th>new/current</th>\n",
       "      <th>month</th>\n",
       "      <th>document</th>\n",
       "      <th>receiving_date</th>\n",
       "    </tr>\n",
       "  </thead>\n",
       "  <tbody>\n",
       "    <tr>\n",
       "      <th>0</th>\n",
       "      <td>6</td>\n",
       "      <td>11693.7</td>\n",
       "      <td>ВНУТРЕННИЙ</td>\n",
       "      <td>-</td>\n",
       "      <td>-</td>\n",
       "      <td>Май 2021</td>\n",
       "      <td>-</td>\n",
       "      <td>NaT</td>\n",
       "    </tr>\n",
       "    <tr>\n",
       "      <th>1</th>\n",
       "      <td>14</td>\n",
       "      <td>5452.7</td>\n",
       "      <td>ОПЛАЧЕНО</td>\n",
       "      <td>Петрова</td>\n",
       "      <td>новая</td>\n",
       "      <td>Май 2021</td>\n",
       "      <td>оригинал</td>\n",
       "      <td>2021-07-26</td>\n",
       "    </tr>\n",
       "    <tr>\n",
       "      <th>2</th>\n",
       "      <td>15</td>\n",
       "      <td>13991.7</td>\n",
       "      <td>ОПЛАЧЕНО</td>\n",
       "      <td>Иванов</td>\n",
       "      <td>текущая</td>\n",
       "      <td>Май 2021</td>\n",
       "      <td>оригинал</td>\n",
       "      <td>2021-06-08</td>\n",
       "    </tr>\n",
       "    <tr>\n",
       "      <th>3</th>\n",
       "      <td>16</td>\n",
       "      <td>719.7</td>\n",
       "      <td>ОПЛАЧЕНО</td>\n",
       "      <td>Иванов</td>\n",
       "      <td>текущая</td>\n",
       "      <td>Май 2021</td>\n",
       "      <td>оригинал</td>\n",
       "      <td>2021-06-08</td>\n",
       "    </tr>\n",
       "    <tr>\n",
       "      <th>4</th>\n",
       "      <td>18</td>\n",
       "      <td>4253.7</td>\n",
       "      <td>ОПЛАЧЕНО</td>\n",
       "      <td>Иванов</td>\n",
       "      <td>текущая</td>\n",
       "      <td>Май 2021</td>\n",
       "      <td>оригинал</td>\n",
       "      <td>2021-07-07</td>\n",
       "    </tr>\n",
       "  </tbody>\n",
       "</table>\n",
       "</div>"
      ],
      "text/plain": [
       "   client_id      sum      status     sale new/current     month  document  \\\n",
       "0          6  11693.7  ВНУТРЕННИЙ        -           -  Май 2021         -   \n",
       "1         14   5452.7    ОПЛАЧЕНО  Петрова       новая  Май 2021  оригинал   \n",
       "2         15  13991.7    ОПЛАЧЕНО   Иванов     текущая  Май 2021  оригинал   \n",
       "3         16    719.7    ОПЛАЧЕНО   Иванов     текущая  Май 2021  оригинал   \n",
       "4         18   4253.7    ОПЛАЧЕНО   Иванов     текущая  Май 2021  оригинал   \n",
       "\n",
       "  receiving_date  \n",
       "0            NaT  \n",
       "1     2021-07-26  \n",
       "2     2021-06-08  \n",
       "3     2021-06-08  \n",
       "4     2021-07-07  "
      ]
     },
     "execution_count": 15,
     "metadata": {},
     "output_type": "execute_result"
    }
   ],
   "source": [
    "# просмотр таблицы\n",
    "data.head()"
   ]
  },
  {
   "cell_type": "markdown",
   "id": "aa26fec0",
   "metadata": {},
   "source": [
    "В таблице остались пропуски в двух столбцах, но пока логичной замены нет, также нет причин удалять такие строки. "
   ]
  },
  {
   "cell_type": "markdown",
   "id": "3f69f901",
   "metadata": {},
   "source": [
    "### Ответы на вопросы\n",
    "\n",
    "#### Общая выручка за июль 2021\n",
    "Вычислите общую выручку за июль 2021 по тем сделкам, приход денежных средств которых не просрочен."
   ]
  },
  {
   "cell_type": "code",
   "execution_count": 16,
   "id": "d3ed048b",
   "metadata": {},
   "outputs": [
    {
     "name": "stdout",
     "output_type": "stream",
     "text": [
      "Общая выручка за июль: 852012.8699999998\n"
     ]
    }
   ],
   "source": [
    "# сумма денежных средств за июль\n",
    "print('Общая выручка за июль:',\n",
    "      data.query('month == \\'Июль 2021\\' and status != \\'ПРОСРОЧЕНО\\'')['sum'].sum())"
   ]
  },
  {
   "cell_type": "markdown",
   "id": "c9fda210",
   "metadata": {},
   "source": [
    "#### Динамика выручки\n",
    "Как изменялась выручка компании за рассматриваемый период? Проиллюстрируйте графиком."
   ]
  },
  {
   "cell_type": "code",
   "execution_count": 17,
   "id": "1340d654",
   "metadata": {},
   "outputs": [],
   "source": [
    "# выручка в каждом месяце\n",
    "total_income = data.groupby('month').agg({'sum': 'sum'}).reset_index()"
   ]
  },
  {
   "cell_type": "code",
   "execution_count": 18,
   "id": "067a3804",
   "metadata": {},
   "outputs": [
    {
     "data": {
      "text/html": [
       "<div>\n",
       "<style scoped>\n",
       "    .dataframe tbody tr th:only-of-type {\n",
       "        vertical-align: middle;\n",
       "    }\n",
       "\n",
       "    .dataframe tbody tr th {\n",
       "        vertical-align: top;\n",
       "    }\n",
       "\n",
       "    .dataframe thead th {\n",
       "        text-align: right;\n",
       "    }\n",
       "</style>\n",
       "<table border=\"1\" class=\"dataframe\">\n",
       "  <thead>\n",
       "    <tr style=\"text-align: right;\">\n",
       "      <th></th>\n",
       "      <th>month</th>\n",
       "      <th>sum</th>\n",
       "    </tr>\n",
       "  </thead>\n",
       "  <tbody>\n",
       "    <tr>\n",
       "      <th>0</th>\n",
       "      <td>Май 2021</td>\n",
       "      <td>804871.09</td>\n",
       "    </tr>\n",
       "    <tr>\n",
       "      <th>1</th>\n",
       "      <td>Июнь 2021</td>\n",
       "      <td>807236.21</td>\n",
       "    </tr>\n",
       "    <tr>\n",
       "      <th>2</th>\n",
       "      <td>Июль 2021</td>\n",
       "      <td>853990.57</td>\n",
       "    </tr>\n",
       "    <tr>\n",
       "      <th>3</th>\n",
       "      <td>Август 2021</td>\n",
       "      <td>844263.39</td>\n",
       "    </tr>\n",
       "    <tr>\n",
       "      <th>4</th>\n",
       "      <td>Сентябрь 2021</td>\n",
       "      <td>818523.88</td>\n",
       "    </tr>\n",
       "    <tr>\n",
       "      <th>5</th>\n",
       "      <td>Октябрь 2021</td>\n",
       "      <td>1001063.49</td>\n",
       "    </tr>\n",
       "  </tbody>\n",
       "</table>\n",
       "</div>"
      ],
      "text/plain": [
       "           month         sum\n",
       "0       Май 2021   804871.09\n",
       "1      Июнь 2021   807236.21\n",
       "2      Июль 2021   853990.57\n",
       "3    Август 2021   844263.39\n",
       "4  Сентябрь 2021   818523.88\n",
       "5   Октябрь 2021  1001063.49"
      ]
     },
     "execution_count": 18,
     "metadata": {},
     "output_type": "execute_result"
    }
   ],
   "source": [
    "# установка месяцев в правильном порядке\n",
    "total_income = total_income.reindex(index=[3, 2, 1, 0, 5, 4]).reset_index(drop=True)\n",
    "total_income"
   ]
  },
  {
   "cell_type": "code",
   "execution_count": 19,
   "id": "b73569c3",
   "metadata": {},
   "outputs": [
    {
     "data": {
      "image/png": "[encoded data removed]",
      "text/plain": [
       "<Figure size 720x360 with 1 Axes>"
      ]
     },
     "metadata": {
      "needs_background": "light"
     },
     "output_type": "display_data"
    }
   ],
   "source": [
    "# построение графика\n",
    "plt.figure(figsize=(10, 5))\n",
    "plt.plot(total_income['month'], total_income['sum'])\n",
    "plt.grid()\n",
    "plt.title('Изменение выручки компании')\n",
    "plt.xlabel('Месяц')\n",
    "plt.ylabel('Выручка, млн')\n",
    "plt.show()"
   ]
  },
  {
   "cell_type": "markdown",
   "id": "631ebfb4",
   "metadata": {},
   "source": [
    "Если рассматривать все платежи (то есть учитывать платежи любого статуса), то график показывает максимальный прирост выручки в октябре. Также небольшой прирост был в июле, но к сентябрю выручка уменьшилась. "
   ]
  },
  {
   "cell_type": "markdown",
   "id": "29c2b443",
   "metadata": {},
   "source": [
    "####  Топ менеджеров\n",
    "Кто из менеджеров привлек для компании больше всего денежных средств в сентябре 2021?"
   ]
  },
  {
   "cell_type": "code",
   "execution_count": 20,
   "id": "0e8a6003",
   "metadata": {},
   "outputs": [
    {
     "data": {
      "text/html": [
       "<div>\n",
       "<style scoped>\n",
       "    .dataframe tbody tr th:only-of-type {\n",
       "        vertical-align: middle;\n",
       "    }\n",
       "\n",
       "    .dataframe tbody tr th {\n",
       "        vertical-align: top;\n",
       "    }\n",
       "\n",
       "    .dataframe thead th {\n",
       "        text-align: right;\n",
       "    }\n",
       "</style>\n",
       "<table border=\"1\" class=\"dataframe\">\n",
       "  <thead>\n",
       "    <tr style=\"text-align: right;\">\n",
       "      <th></th>\n",
       "      <th>sum</th>\n",
       "    </tr>\n",
       "    <tr>\n",
       "      <th>sale</th>\n",
       "      <th></th>\n",
       "    </tr>\n",
       "  </thead>\n",
       "  <tbody>\n",
       "    <tr>\n",
       "      <th>Смирнов</th>\n",
       "      <td>220672.00</td>\n",
       "    </tr>\n",
       "    <tr>\n",
       "      <th>Петрова</th>\n",
       "      <td>149344.46</td>\n",
       "    </tr>\n",
       "    <tr>\n",
       "      <th>Андреев</th>\n",
       "      <td>132646.30</td>\n",
       "    </tr>\n",
       "    <tr>\n",
       "      <th>Иванов</th>\n",
       "      <td>94770.60</td>\n",
       "    </tr>\n",
       "    <tr>\n",
       "      <th>Кузнецова</th>\n",
       "      <td>72228.40</td>\n",
       "    </tr>\n",
       "    <tr>\n",
       "      <th>Филимонова</th>\n",
       "      <td>59514.47</td>\n",
       "    </tr>\n",
       "    <tr>\n",
       "      <th>Васильев</th>\n",
       "      <td>49895.45</td>\n",
       "    </tr>\n",
       "    <tr>\n",
       "      <th>Соколов</th>\n",
       "      <td>35183.50</td>\n",
       "    </tr>\n",
       "    <tr>\n",
       "      <th>Михайлов</th>\n",
       "      <td>4268.70</td>\n",
       "    </tr>\n",
       "  </tbody>\n",
       "</table>\n",
       "</div>"
      ],
      "text/plain": [
       "                  sum\n",
       "sale                 \n",
       "Смирнов     220672.00\n",
       "Петрова     149344.46\n",
       "Андреев     132646.30\n",
       "Иванов       94770.60\n",
       "Кузнецова    72228.40\n",
       "Филимонова   59514.47\n",
       "Васильев     49895.45\n",
       "Соколов      35183.50\n",
       "Михайлов      4268.70"
      ]
     },
     "execution_count": 20,
     "metadata": {},
     "output_type": "execute_result"
    }
   ],
   "source": [
    "# суммарная выручка от каждого менеджера\n",
    "(\n",
    "    data\n",
    "    .query('month == \\'Сентябрь 2021\\'')\n",
    "    .groupby('sale')\n",
    "    .agg({'sum': 'sum'})\n",
    "    .sort_values(by='sum', ascending=False)\n",
    ")"
   ]
  },
  {
   "cell_type": "markdown",
   "id": "5edc34c4",
   "metadata": {},
   "source": [
    "В сентябре 2021 менеджер Смирнов принес наибольшую прибыль компании - около 220 тысяч. "
   ]
  },
  {
   "cell_type": "markdown",
   "id": "a8057c43",
   "metadata": {},
   "source": [
    "#### Сделки в октябре \n",
    "Какой тип сделок (новая/текущая) был преобладающим в октябре 2021?"
   ]
  },
  {
   "cell_type": "code",
   "execution_count": 21,
   "id": "f1415f9d",
   "metadata": {},
   "outputs": [
    {
     "data": {
      "text/plain": [
       "new/current\n",
       "новая      35\n",
       "текущая    98\n",
       "Name: client_id, dtype: int64"
      ]
     },
     "execution_count": 21,
     "metadata": {},
     "output_type": "execute_result"
    }
   ],
   "source": [
    "# количество каждого типа сделок\n",
    "data.query('month == \\'Октябрь 2021\\'').groupby('new/current')['client_id'].count()"
   ]
  },
  {
   "cell_type": "markdown",
   "id": "ce16d4fc",
   "metadata": {},
   "source": [
    "В октябре 2021 преобладали текущие сделки."
   ]
  },
  {
   "cell_type": "markdown",
   "id": "deb2250b",
   "metadata": {},
   "source": [
    "####  Количество оригиналов\n",
    "Сколько оригиналов договора по майским сделкам было получено в июне 2021?"
   ]
  },
  {
   "cell_type": "code",
   "execution_count": 22,
   "id": "d35c2717",
   "metadata": {},
   "outputs": [],
   "source": [
    "# данные о сделках в мае с оригиналами\n",
    "may = data.query('month == \\'Май 2021\\' and document == \\'оригинал\\'')"
   ]
  },
  {
   "cell_type": "code",
   "execution_count": 40,
   "id": "d966c1ce",
   "metadata": {},
   "outputs": [],
   "source": [
    "# определение месяца, когда принесли оригинал\n",
    "receiving_month = pd.DatetimeIndex(may.loc[:, 'receiving_date']).month"
   ]
  },
  {
   "cell_type": "code",
   "execution_count": 44,
   "id": "bc1f4b15",
   "metadata": {},
   "outputs": [
    {
     "data": {
      "text/plain": [
       "76"
      ]
     },
     "execution_count": 44,
     "metadata": {},
     "output_type": "execute_result"
    }
   ],
   "source": [
    "# количество сделок, когда оригинал принесли в июне\n",
    "(receiving_month == 6).sum()"
   ]
  },
  {
   "cell_type": "markdown",
   "id": "ca5ce8b4",
   "metadata": {},
   "source": [
    "В июне 2021 было получено 76 оригиналов документов по майским сделкам."
   ]
  },
  {
   "cell_type": "markdown",
   "id": "e791861d",
   "metadata": {},
   "source": [
    "### Задание\n",
    "За каждую заключенную сделку менеджер получает бонус, который рассчитывается следующим образом.\n",
    "1) За новые сделки менеджер получает 7 % от суммы, при условии, что статус оплаты «ОПЛАЧЕНО», а также имеется оригинал подписанного договора с клиентом (в рассматриваемом месяце).\n",
    "\n",
    "2) За текущие сделки менеджер получает 5 % от суммы, если она больше 10 тыс., и 3 % от суммы, если меньше. При этом статус оплаты может быть любым, кроме «ПРОСРОЧЕНО», а также необходимо наличие оригинала подписанного договора с клиентом (в рассматриваемом месяце).\n",
    "\n",
    "Бонусы по сделкам, оригиналы для которых приходят позже рассматриваемого месяца, считаются остатком на следующий период, который выплачивается по мере прихода оригиналов.\n",
    "\n",
    "Вычислите остаток каждого из менеджеров на 01.07.2021"
   ]
  },
  {
   "cell_type": "markdown",
   "id": "f97bbd72",
   "metadata": {},
   "source": [
    "#### Решение\n",
    "Так как нам интересен только период до июля, сделаем срез всей таблицы и будем работать с ним."
   ]
  },
  {
   "cell_type": "code",
   "execution_count": 25,
   "id": "33119fe1",
   "metadata": {},
   "outputs": [],
   "source": [
    "# таблица со сделками мая и июня \n",
    "mj = ['Май 2021', 'Июнь 2021']\n",
    "may_june = data.query('month in @mj')"
   ]
  },
  {
   "cell_type": "code",
   "execution_count": 26,
   "id": "d61c4b67",
   "metadata": {},
   "outputs": [
    {
     "data": {
      "text/html": [
       "<div>\n",
       "<style scoped>\n",
       "    .dataframe tbody tr th:only-of-type {\n",
       "        vertical-align: middle;\n",
       "    }\n",
       "\n",
       "    .dataframe tbody tr th {\n",
       "        vertical-align: top;\n",
       "    }\n",
       "\n",
       "    .dataframe thead th {\n",
       "        text-align: right;\n",
       "    }\n",
       "</style>\n",
       "<table border=\"1\" class=\"dataframe\">\n",
       "  <thead>\n",
       "    <tr style=\"text-align: right;\">\n",
       "      <th></th>\n",
       "      <th>client_id</th>\n",
       "      <th>sum</th>\n",
       "      <th>status</th>\n",
       "      <th>sale</th>\n",
       "      <th>new/current</th>\n",
       "      <th>month</th>\n",
       "      <th>document</th>\n",
       "      <th>receiving_date</th>\n",
       "    </tr>\n",
       "  </thead>\n",
       "  <tbody>\n",
       "    <tr>\n",
       "      <th>0</th>\n",
       "      <td>6</td>\n",
       "      <td>11693.7</td>\n",
       "      <td>ВНУТРЕННИЙ</td>\n",
       "      <td>-</td>\n",
       "      <td>-</td>\n",
       "      <td>Май 2021</td>\n",
       "      <td>-</td>\n",
       "      <td>NaT</td>\n",
       "    </tr>\n",
       "    <tr>\n",
       "      <th>241</th>\n",
       "      <td>266</td>\n",
       "      <td>3363.7</td>\n",
       "      <td>ОПЛАЧЕНО</td>\n",
       "      <td>Петрова</td>\n",
       "      <td>текущая</td>\n",
       "      <td>Июнь 2021</td>\n",
       "      <td>НЕТ</td>\n",
       "      <td>NaT</td>\n",
       "    </tr>\n",
       "  </tbody>\n",
       "</table>\n",
       "</div>"
      ],
      "text/plain": [
       "     client_id      sum      status     sale new/current      month document  \\\n",
       "0            6  11693.7  ВНУТРЕННИЙ        -           -   Май 2021        -   \n",
       "241        266   3363.7    ОПЛАЧЕНО  Петрова     текущая  Июнь 2021      НЕТ   \n",
       "\n",
       "    receiving_date  \n",
       "0              NaT  \n",
       "241            NaT  "
      ]
     },
     "execution_count": 26,
     "metadata": {},
     "output_type": "execute_result"
    }
   ],
   "source": [
    "# сделки без оригиналов и даты\n",
    "may_june[may_june['receiving_date'].isna()]"
   ]
  },
  {
   "cell_type": "markdown",
   "id": "95add5a5",
   "metadata": {},
   "source": [
    "Есть две сделки, одну из которых нельзя исключать, поскольку она будет считаться остатком. Насколько я поняла, остатком на 1 июля будут считаться те сделки, документы по которым были получены позднее 31 июня. То есть мы можем исключить сделки, где receiving_date < 2021.07.01, поскольку нам нужно определить только остаток. "
   ]
  },
  {
   "cell_type": "code",
   "execution_count": 27,
   "id": "494f67fe",
   "metadata": {},
   "outputs": [
    {
     "data": {
      "text/html": [
       "<div>\n",
       "<style scoped>\n",
       "    .dataframe tbody tr th:only-of-type {\n",
       "        vertical-align: middle;\n",
       "    }\n",
       "\n",
       "    .dataframe tbody tr th {\n",
       "        vertical-align: top;\n",
       "    }\n",
       "\n",
       "    .dataframe thead th {\n",
       "        text-align: right;\n",
       "    }\n",
       "</style>\n",
       "<table border=\"1\" class=\"dataframe\">\n",
       "  <thead>\n",
       "    <tr style=\"text-align: right;\">\n",
       "      <th></th>\n",
       "      <th>client_id</th>\n",
       "      <th>sum</th>\n",
       "      <th>status</th>\n",
       "      <th>sale</th>\n",
       "      <th>new/current</th>\n",
       "      <th>month</th>\n",
       "      <th>document</th>\n",
       "      <th>receiving_date</th>\n",
       "    </tr>\n",
       "  </thead>\n",
       "  <tbody>\n",
       "    <tr>\n",
       "      <th>0</th>\n",
       "      <td>6</td>\n",
       "      <td>11693.7</td>\n",
       "      <td>ВНУТРЕННИЙ</td>\n",
       "      <td>-</td>\n",
       "      <td>-</td>\n",
       "      <td>Май 2021</td>\n",
       "      <td>-</td>\n",
       "      <td>NaT</td>\n",
       "    </tr>\n",
       "    <tr>\n",
       "      <th>1</th>\n",
       "      <td>14</td>\n",
       "      <td>5452.7</td>\n",
       "      <td>ОПЛАЧЕНО</td>\n",
       "      <td>Петрова</td>\n",
       "      <td>новая</td>\n",
       "      <td>Май 2021</td>\n",
       "      <td>оригинал</td>\n",
       "      <td>2021-07-26</td>\n",
       "    </tr>\n",
       "    <tr>\n",
       "      <th>4</th>\n",
       "      <td>18</td>\n",
       "      <td>4253.7</td>\n",
       "      <td>ОПЛАЧЕНО</td>\n",
       "      <td>Иванов</td>\n",
       "      <td>текущая</td>\n",
       "      <td>Май 2021</td>\n",
       "      <td>оригинал</td>\n",
       "      <td>2021-07-07</td>\n",
       "    </tr>\n",
       "    <tr>\n",
       "      <th>5</th>\n",
       "      <td>20</td>\n",
       "      <td>5796.7</td>\n",
       "      <td>ОПЛАЧЕНО</td>\n",
       "      <td>Кузнецова</td>\n",
       "      <td>текущая</td>\n",
       "      <td>Май 2021</td>\n",
       "      <td>оригинал</td>\n",
       "      <td>2021-07-15</td>\n",
       "    </tr>\n",
       "    <tr>\n",
       "      <th>6</th>\n",
       "      <td>21</td>\n",
       "      <td>3613.7</td>\n",
       "      <td>ОПЛАЧЕНО</td>\n",
       "      <td>Кузнецова</td>\n",
       "      <td>текущая</td>\n",
       "      <td>Май 2021</td>\n",
       "      <td>оригинал</td>\n",
       "      <td>2021-10-13</td>\n",
       "    </tr>\n",
       "    <tr>\n",
       "      <th>...</th>\n",
       "      <td>...</td>\n",
       "      <td>...</td>\n",
       "      <td>...</td>\n",
       "      <td>...</td>\n",
       "      <td>...</td>\n",
       "      <td>...</td>\n",
       "      <td>...</td>\n",
       "      <td>...</td>\n",
       "    </tr>\n",
       "    <tr>\n",
       "      <th>246</th>\n",
       "      <td>281</td>\n",
       "      <td>5733.7</td>\n",
       "      <td>ОПЛАЧЕНО</td>\n",
       "      <td>Селиванов</td>\n",
       "      <td>текущая</td>\n",
       "      <td>Июнь 2021</td>\n",
       "      <td>оригинал</td>\n",
       "      <td>2021-07-22</td>\n",
       "    </tr>\n",
       "    <tr>\n",
       "      <th>247</th>\n",
       "      <td>282</td>\n",
       "      <td>953.7</td>\n",
       "      <td>ОПЛАЧЕНО</td>\n",
       "      <td>Селиванов</td>\n",
       "      <td>новая</td>\n",
       "      <td>Июнь 2021</td>\n",
       "      <td>оригинал</td>\n",
       "      <td>2021-07-16</td>\n",
       "    </tr>\n",
       "    <tr>\n",
       "      <th>248</th>\n",
       "      <td>284</td>\n",
       "      <td>8823.7</td>\n",
       "      <td>ПРОСРОЧЕНО</td>\n",
       "      <td>Филимонова</td>\n",
       "      <td>текущая</td>\n",
       "      <td>Июнь 2021</td>\n",
       "      <td>оригинал</td>\n",
       "      <td>2021-09-08</td>\n",
       "    </tr>\n",
       "    <tr>\n",
       "      <th>249</th>\n",
       "      <td>286</td>\n",
       "      <td>3453.7</td>\n",
       "      <td>ОПЛАЧЕНО</td>\n",
       "      <td>Филимонова</td>\n",
       "      <td>текущая</td>\n",
       "      <td>Июнь 2021</td>\n",
       "      <td>оригинал</td>\n",
       "      <td>2021-07-22</td>\n",
       "    </tr>\n",
       "    <tr>\n",
       "      <th>250</th>\n",
       "      <td>287</td>\n",
       "      <td>6543.7</td>\n",
       "      <td>ОПЛАЧЕНО</td>\n",
       "      <td>Филимонова</td>\n",
       "      <td>текущая</td>\n",
       "      <td>Июнь 2021</td>\n",
       "      <td>оригинал</td>\n",
       "      <td>2021-08-12</td>\n",
       "    </tr>\n",
       "  </tbody>\n",
       "</table>\n",
       "<p>170 rows × 8 columns</p>\n",
       "</div>"
      ],
      "text/plain": [
       "     client_id      sum      status        sale new/current      month  \\\n",
       "0            6  11693.7  ВНУТРЕННИЙ           -           -   Май 2021   \n",
       "1           14   5452.7    ОПЛАЧЕНО     Петрова       новая   Май 2021   \n",
       "4           18   4253.7    ОПЛАЧЕНО      Иванов     текущая   Май 2021   \n",
       "5           20   5796.7    ОПЛАЧЕНО   Кузнецова     текущая   Май 2021   \n",
       "6           21   3613.7    ОПЛАЧЕНО   Кузнецова     текущая   Май 2021   \n",
       "..         ...      ...         ...         ...         ...        ...   \n",
       "246        281   5733.7    ОПЛАЧЕНО   Селиванов     текущая  Июнь 2021   \n",
       "247        282    953.7    ОПЛАЧЕНО   Селиванов       новая  Июнь 2021   \n",
       "248        284   8823.7  ПРОСРОЧЕНО  Филимонова     текущая  Июнь 2021   \n",
       "249        286   3453.7    ОПЛАЧЕНО  Филимонова     текущая  Июнь 2021   \n",
       "250        287   6543.7    ОПЛАЧЕНО  Филимонова     текущая  Июнь 2021   \n",
       "\n",
       "     document receiving_date  \n",
       "0           -            NaT  \n",
       "1    оригинал     2021-07-26  \n",
       "4    оригинал     2021-07-07  \n",
       "5    оригинал     2021-07-15  \n",
       "6    оригинал     2021-10-13  \n",
       "..        ...            ...  \n",
       "246  оригинал     2021-07-22  \n",
       "247  оригинал     2021-07-16  \n",
       "248  оригинал     2021-09-08  \n",
       "249  оригинал     2021-07-22  \n",
       "250  оригинал     2021-08-12  \n",
       "\n",
       "[170 rows x 8 columns]"
      ]
     },
     "execution_count": 27,
     "metadata": {},
     "output_type": "execute_result"
    }
   ],
   "source": [
    "# исключение сделок, оплаченных в мае и июне\n",
    "may_june = may_june.query('receiving_date >= \\'2021-07-01\\' or receiving_date == \\'NaT\\'')\n",
    "may_june"
   ]
  },
  {
   "cell_type": "markdown",
   "id": "674388f1",
   "metadata": {},
   "source": [
    "Всего 170 сделок, не оплаченных в мае и июне. Теперь для каждой сделки определим процент, который получит менеджер, когда принесут оригинал. Остаток вычисляется не смотря на известный в таблице статус и дату оплаты, поскольку в рассматриваемую дату ещё не известно, будет ли принесен оригинал документа или нет. Поэтому мы вычисляем потенциальную сумму, которую сможет получить менеджер."
   ]
  },
  {
   "cell_type": "code",
   "execution_count": 28,
   "id": "e87430ba",
   "metadata": {},
   "outputs": [
    {
     "data": {
      "text/html": [
       "<div>\n",
       "<style scoped>\n",
       "    .dataframe tbody tr th:only-of-type {\n",
       "        vertical-align: middle;\n",
       "    }\n",
       "\n",
       "    .dataframe tbody tr th {\n",
       "        vertical-align: top;\n",
       "    }\n",
       "\n",
       "    .dataframe thead th {\n",
       "        text-align: right;\n",
       "    }\n",
       "</style>\n",
       "<table border=\"1\" class=\"dataframe\">\n",
       "  <thead>\n",
       "    <tr style=\"text-align: right;\">\n",
       "      <th></th>\n",
       "      <th>client_id</th>\n",
       "      <th>sum</th>\n",
       "      <th>status</th>\n",
       "      <th>sale</th>\n",
       "      <th>new/current</th>\n",
       "      <th>month</th>\n",
       "      <th>document</th>\n",
       "      <th>receiving_date</th>\n",
       "      <th>bonus</th>\n",
       "    </tr>\n",
       "  </thead>\n",
       "  <tbody>\n",
       "    <tr>\n",
       "      <th>0</th>\n",
       "      <td>6</td>\n",
       "      <td>11693.7</td>\n",
       "      <td>ВНУТРЕННИЙ</td>\n",
       "      <td>-</td>\n",
       "      <td>-</td>\n",
       "      <td>Май 2021</td>\n",
       "      <td>-</td>\n",
       "      <td>NaT</td>\n",
       "      <td>0.000</td>\n",
       "    </tr>\n",
       "    <tr>\n",
       "      <th>1</th>\n",
       "      <td>14</td>\n",
       "      <td>5452.7</td>\n",
       "      <td>ОПЛАЧЕНО</td>\n",
       "      <td>Петрова</td>\n",
       "      <td>новая</td>\n",
       "      <td>Май 2021</td>\n",
       "      <td>оригинал</td>\n",
       "      <td>2021-07-26</td>\n",
       "      <td>381.689</td>\n",
       "    </tr>\n",
       "    <tr>\n",
       "      <th>4</th>\n",
       "      <td>18</td>\n",
       "      <td>4253.7</td>\n",
       "      <td>ОПЛАЧЕНО</td>\n",
       "      <td>Иванов</td>\n",
       "      <td>текущая</td>\n",
       "      <td>Май 2021</td>\n",
       "      <td>оригинал</td>\n",
       "      <td>2021-07-07</td>\n",
       "      <td>127.611</td>\n",
       "    </tr>\n",
       "    <tr>\n",
       "      <th>5</th>\n",
       "      <td>20</td>\n",
       "      <td>5796.7</td>\n",
       "      <td>ОПЛАЧЕНО</td>\n",
       "      <td>Кузнецова</td>\n",
       "      <td>текущая</td>\n",
       "      <td>Май 2021</td>\n",
       "      <td>оригинал</td>\n",
       "      <td>2021-07-15</td>\n",
       "      <td>173.901</td>\n",
       "    </tr>\n",
       "    <tr>\n",
       "      <th>6</th>\n",
       "      <td>21</td>\n",
       "      <td>3613.7</td>\n",
       "      <td>ОПЛАЧЕНО</td>\n",
       "      <td>Кузнецова</td>\n",
       "      <td>текущая</td>\n",
       "      <td>Май 2021</td>\n",
       "      <td>оригинал</td>\n",
       "      <td>2021-10-13</td>\n",
       "      <td>108.411</td>\n",
       "    </tr>\n",
       "  </tbody>\n",
       "</table>\n",
       "</div>"
      ],
      "text/plain": [
       "   client_id      sum      status       sale new/current     month  document  \\\n",
       "0          6  11693.7  ВНУТРЕННИЙ          -           -  Май 2021         -   \n",
       "1         14   5452.7    ОПЛАЧЕНО    Петрова       новая  Май 2021  оригинал   \n",
       "4         18   4253.7    ОПЛАЧЕНО     Иванов     текущая  Май 2021  оригинал   \n",
       "5         20   5796.7    ОПЛАЧЕНО  Кузнецова     текущая  Май 2021  оригинал   \n",
       "6         21   3613.7    ОПЛАЧЕНО  Кузнецова     текущая  Май 2021  оригинал   \n",
       "\n",
       "  receiving_date    bonus  \n",
       "0            NaT    0.000  \n",
       "1     2021-07-26  381.689  \n",
       "4     2021-07-07  127.611  \n",
       "5     2021-07-15  173.901  \n",
       "6     2021-10-13  108.411  "
      ]
     },
     "execution_count": 28,
     "metadata": {},
     "output_type": "execute_result"
    }
   ],
   "source": [
    "# функция, которая вычисляет бонус для каждой сделки\n",
    "def bonus_calculation(row):\n",
    "    income = row['sum']\n",
    "    deals_type = row['new/current']\n",
    "    \n",
    "    if deals_type == 'новая':\n",
    "        return income * 0.07 \n",
    "    elif deals_type == 'текущая':\n",
    "        if income < 10000:\n",
    "            return income * 0.03\n",
    "        else:\n",
    "            return income * 0.05\n",
    "    else:\n",
    "        return 0\n",
    "    \n",
    "# для каждой сделки вычисляем процент, который может получить менеджер\n",
    "may_june['bonus'] = may_june.apply(bonus_calculation, axis=1)\n",
    "may_june.head()"
   ]
  },
  {
   "cell_type": "markdown",
   "id": "d834d3d7",
   "metadata": {},
   "source": [
    "#### Ответ"
   ]
  },
  {
   "cell_type": "code",
   "execution_count": 29,
   "id": "6b62c9b9",
   "metadata": {},
   "outputs": [
    {
     "data": {
      "text/html": [
       "<div>\n",
       "<style scoped>\n",
       "    .dataframe tbody tr th:only-of-type {\n",
       "        vertical-align: middle;\n",
       "    }\n",
       "\n",
       "    .dataframe tbody tr th {\n",
       "        vertical-align: top;\n",
       "    }\n",
       "\n",
       "    .dataframe thead th {\n",
       "        text-align: right;\n",
       "    }\n",
       "</style>\n",
       "<table border=\"1\" class=\"dataframe\">\n",
       "  <thead>\n",
       "    <tr style=\"text-align: right;\">\n",
       "      <th></th>\n",
       "      <th>bonus</th>\n",
       "    </tr>\n",
       "    <tr>\n",
       "      <th>sale</th>\n",
       "      <th></th>\n",
       "    </tr>\n",
       "  </thead>\n",
       "  <tbody>\n",
       "    <tr>\n",
       "      <th>Петрова</th>\n",
       "      <td>10871.6584</td>\n",
       "    </tr>\n",
       "    <tr>\n",
       "      <th>Смирнов</th>\n",
       "      <td>7401.8220</td>\n",
       "    </tr>\n",
       "    <tr>\n",
       "      <th>Иванов</th>\n",
       "      <td>5991.4520</td>\n",
       "    </tr>\n",
       "    <tr>\n",
       "      <th>Селиванов</th>\n",
       "      <td>5238.8540</td>\n",
       "    </tr>\n",
       "    <tr>\n",
       "      <th>Кузнецова</th>\n",
       "      <td>4496.9501</td>\n",
       "    </tr>\n",
       "    <tr>\n",
       "      <th>Андреев</th>\n",
       "      <td>3864.8687</td>\n",
       "    </tr>\n",
       "    <tr>\n",
       "      <th>Филимонова</th>\n",
       "      <td>2849.7799</td>\n",
       "    </tr>\n",
       "    <tr>\n",
       "      <th>Васильев</th>\n",
       "      <td>953.8770</td>\n",
       "    </tr>\n",
       "    <tr>\n",
       "      <th>Соколов</th>\n",
       "      <td>269.2110</td>\n",
       "    </tr>\n",
       "  </tbody>\n",
       "</table>\n",
       "</div>"
      ],
      "text/plain": [
       "                 bonus\n",
       "sale                  \n",
       "Петрова     10871.6584\n",
       "Смирнов      7401.8220\n",
       "Иванов       5991.4520\n",
       "Селиванов    5238.8540\n",
       "Кузнецова    4496.9501\n",
       "Андреев      3864.8687\n",
       "Филимонова   2849.7799\n",
       "Васильев      953.8770\n",
       "Соколов       269.2110"
      ]
     },
     "execution_count": 29,
     "metadata": {},
     "output_type": "execute_result"
    }
   ],
   "source": [
    "# для каждого менеджера вычисляем суммарный остаток с каждой сделки\n",
    "(\n",
    "    may_june\n",
    "    .query('bonus > 0')\n",
    "    .groupby('sale')\n",
    "    .agg({'bonus': 'sum'})\n",
    "    .sort_values(by='bonus', ascending=False)\n",
    ")"
   ]
  },
  {
   "cell_type": "markdown",
   "id": "d6dfdd3f",
   "metadata": {},
   "source": [
    "В таблице указана сумма бонусов, которую сможет получить менеджер, если для всех сделок, заключенных в мае и июне, все клиенты принесут оригиналы документов и сделка получит необходимый статус."
   ]
  }
 ],
 "metadata": {
  "kernelspec": {
   "display_name": "Python 3 (ipykernel)",
   "language": "python",
   "name": "python3"
  },
  "language_info": {
   "codemirror_mode": {
    "name": "ipython",
    "version": 3
   },
   "file_extension": ".py",
   "mimetype": "text/x-python",
   "name": "python",
   "nbconvert_exporter": "python",
   "pygments_lexer": "ipython3",
   "version": "3.9.7"
  },
  "toc": {
   "base_numbering": 1,
   "nav_menu": {},
   "number_sections": true,
   "sideBar": true,
   "skip_h1_title": true,
   "title_cell": "Содержание",
   "title_sidebar": "Contents",
   "toc_cell": true,
   "toc_position": {},
   "toc_section_display": true,
   "toc_window_display": true
  },
  "varInspector": {
   "cols": {
    "lenName": 16,
    "lenType": 16,
    "lenVar": 40
   },
   "kernels_config": {
    "python": {
     "delete_cmd_postfix": "",
     "delete_cmd_prefix": "del ",
     "library": "var_list.py",
     "varRefreshCmd": "print(var_dic_list())"
    },
    "r": {
     "delete_cmd_postfix": ") ",
     "delete_cmd_prefix": "rm(",
     "library": "var_list.r",
     "varRefreshCmd": "cat(var_dic_list()) "
    }
   },
   "types_to_exclude": [
    "module",
    "function",
    "builtin_function_or_method",
    "instance",
    "_Feature"
   ],
   "window_display": false
  }
 },
 "nbformat": 4,
 "nbformat_minor": 5
}
